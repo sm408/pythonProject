{
 "cells": [
  {
   "cell_type": "code",
   "execution_count": 6,
   "id": "ff6d9db3",
   "metadata": {},
   "outputs": [
    {
     "name": "stdout",
     "output_type": "stream",
     "text": [
      "                                       Unnamed: 3 Unnamed: 4 Unnamed: 5  \\\n",
      "4                                             NaN       2023       2022   \n",
      "5                           Land and improvements   $ 1529 $       1427   \n",
      "6                      Buildings and Improvements       3848       3546   \n",
      "7                        Pipelines and Equipments      88195      82353   \n",
      "8             Product Storage and related faciity       7978       7274   \n",
      "9                                    Right of way       7379       6252   \n",
      "10                                          Other       3688       2739   \n",
      "11                  Construction work in progress       2315       2405   \n",
      "12                                            NaN     114932     105996   \n",
      "13  Less - Accumulated depreciation and depletion     -29581     -25685   \n",
      "14             Property, Plant and equipment, net   $85351 $      80311   \n",
      "\n",
      "     Unnamed: 6  \n",
      "4   time_series  \n",
      "5           NaN  \n",
      "6           NaN  \n",
      "7           NaN  \n",
      "8           NaN  \n",
      "9           NaN  \n",
      "10          NaN  \n",
      "11          NaN  \n",
      "12          NaN  \n",
      "13          NaN  \n",
      "14          NaN  \n"
     ]
    }
   ],
   "source": [
    "import pandas as pd\n",
    "\n",
    "# Read the Excel file\n",
    "df = pd.read_excel('test_all_table.xlsx')\n",
    "\n",
    "# Find the last valid column index in the 5th row\n",
    "last_valid_column_name = df.iloc[4].last_valid_index()\n",
    "\n",
    "# Convert the column name to its integer index\n",
    "last_valid_column_index = df.columns.get_loc(last_valid_column_name)\n",
    "\n",
    "# Select the data starting at C5 and ending at the last valid column in the 5th row\n",
    "selected_data = df.iloc[4:, 3:last_valid_column_index+1]\n",
    "\n",
    "# Print the selected data\n",
    "print(selected_data)"
   ]
  },
  {
   "cell_type": "code",
   "execution_count": null,
   "id": "a8ff5c43",
   "metadata": {},
   "outputs": [],
   "source": [
    "#selecting and cleaning data with the headers as timeseries\n",
    "\n",
    "# need to recognise the columns which are timeseries, it is denoted by the value time_series in the last column of teh dataframe"
   ]
  }
 ],
 "metadata": {
  "kernelspec": {
   "display_name": "Python 3",
   "language": "python",
   "name": "python3"
  },
  "language_info": {
   "codemirror_mode": {
    "name": "ipython",
    "version": 3
   },
   "file_extension": ".py",
   "mimetype": "text/x-python",
   "name": "python",
   "nbconvert_exporter": "python",
   "pygments_lexer": "ipython3",
   "version": "3.12.0"
  }
 },
 "nbformat": 4,
 "nbformat_minor": 5
}
